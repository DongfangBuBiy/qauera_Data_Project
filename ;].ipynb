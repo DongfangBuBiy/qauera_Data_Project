{
 "cells": [
  {
   "cell_type": "code",
   "execution_count": null,
   "metadata": {},
   "outputs": [],
   "source": [
    "import pandas as pd\n",
    "import matplotlib.pyplot as plt\n",
    "Data = pd.read_csv('imdb_movies.csv')"
   ]
  },
  {
   "cell_type": "markdown",
   "metadata": {},
   "source": [
    "1 با رسم جدول نشان دهید در هر سال چند فیلم سینمایی منتشر شده است؟"
   ]
  },
  {
   "cell_type": "code",
   "execution_count": null,
   "metadata": {},
   "outputs": [],
   "source": [
    "movies_per_year = Data.groupby('release_year')['id'].count()\n",
    "movies_per_year\n",
    "\n"
   ]
  },
  {
   "cell_type": "markdown",
   "metadata": {},
   "source": [
    "2 با رسم نمودار روند تعداد فیلم های سینمایی انتشار یافته را نشان دهید."
   ]
  },
  {
   "cell_type": "code",
   "execution_count": null,
   "metadata": {},
   "outputs": [],
   "source": [
    "import pandas as pd\n",
    "import matplotlib.pyplot as plt\n",
    "Data = pd.read_csv('imdb_movies.csv')\n",
    "fig = plt.figure(figsize=(12, 8))\n",
    "\n",
    "\n",
    "plt.scatter(Data['release_year'], Data['id'])\n",
    "\n",
    "\n",
    "plt.title(\"Movie Duration by Year of Release\")\n",
    "\n",
    "\n",
    "plt.show()"
   ]
  },
  {
   "cell_type": "markdown",
   "metadata": {},
   "source": [
    "طوالنی تر ین و کوتاهتر ین فیلم ثبت شده، کدام فیلم ها بوده است؟"
   ]
  },
  {
   "cell_type": "code",
   "execution_count": null,
   "metadata": {},
   "outputs": [],
   "source": [
    "clean_data= Data[Data['runtime'] != 0]\n",
    "max_time = clean_data.loc[clean_data['runtime'].idxmax()]\n",
    "min_time = clean_data.loc[clean_data['runtime'].idxmin()]\n",
    "print(f\"max time is {max_time['original_title']} with {max_time['runtime']} minutes \\nmin time is {min_time['original_title']} white {min_time['runtime']} minutes\")\n"
   ]
  }
 ],
 "metadata": {
  "language_info": {
   "name": "python"
  }
 },
 "nbformat": 4,
 "nbformat_minor": 2
}
