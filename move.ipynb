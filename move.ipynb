{
 "cells": [
  {
   "cell_type": "code",
   "execution_count": null,
   "metadata": {},
   "outputs": [],
   "source": [
    "import pandas as pd\n",
    "import matplotlib.pyplot as plt\n",
    "Data = pd.read_csv('imdb_movies.csv')\n",
    "print(Data.to_string())\n",
    "#Data.columns"
   ]
  },
  {
   "cell_type": "markdown",
   "metadata": {},
   "source": [
    "1 با رسم جدول نشان دهید در هر سال چند فیلم سینمایی منتشر شده است؟"
   ]
  },
  {
   "cell_type": "code",
   "execution_count": null,
   "metadata": {},
   "outputs": [],
   "source": [
    "movies_per_year = Data.groupby('release_year')['id'].count()\n",
    "movies_per_year\n",
    "\n"
   ]
  },
  {
   "cell_type": "markdown",
   "metadata": {},
   "source": [
    "2 با رسم نمودار روند تعداد فیلم های سینمایی انتشار یافته را نشان دهید."
   ]
  },
  {
   "cell_type": "code",
   "execution_count": null,
   "metadata": {},
   "outputs": [],
   "source": [
    "import pandas as pd\n",
    "import matplotlib.pyplot as plt\n",
    "Data = pd.read_csv('imdb_movies.csv')\n",
    "fig = plt.figure(figsize=(12, 8))\n",
    "\n",
    "\n",
    "plt.scatter(Data['release_year'], Data['id'])\n",
    "\n",
    "\n",
    "plt.title(\"Movie Duration by Year of Release\")\n",
    "\n",
    "\n",
    "plt.show()"
   ]
  },
  {
   "cell_type": "markdown",
   "metadata": {},
   "source": [
    "طوالنی تر ین و کوتاهتر ین فیلم ثبت شده، کدام فیلم ها بوده است؟"
   ]
  },
  {
   "cell_type": "code",
   "execution_count": null,
   "metadata": {},
   "outputs": [],
   "source": [
    "Data.isna().sum()\n",
    "#movies_per_year = Data.groupby('runtime')['id'].count()\n",
    "#print(movies_per_year.to_string())\n",
    "#max_time = Data['runtime'].max()\n",
    "#min_time = Data['runtime'].min()\n",
    "#print(f\"max time is {max_time} min time is {min_time}\")"
   ]
  },
  {
   "cell_type": "code",
   "execution_count": 5,
   "metadata": {},
   "outputs": [
    {
     "name": "stdout",
     "output_type": "stream",
     "text": [
      "max time is The Story of Film: An Odyssey with 900 minutes \n",
      "min time is Fresh Guacamole white 2 minutes\n"
     ]
    }
   ],
   "source": [
    "clean_data= Data[Data['runtime'] != 0]\n",
    "max_time = clean_data.loc[clean_data['runtime'].idxmax()]\n",
    "min_time = clean_data.loc[clean_data['runtime'].idxmin()]\n",
    "print(f\"max time is {max_time['original_title']} with {max_time['runtime']} minutes \\nmin time is {min_time['original_title']} white {min_time['runtime']} minutes\")\n"
   ]
  },
  {
   "cell_type": "markdown",
   "metadata": {},
   "source": [
    " میانگین طول فیلم های سینمایی در هر سال چند دقیقه بوده است؟ پاسخ را به ساعت و دقیقه نمایش \n",
    "دهید."
   ]
  },
  {
   "cell_type": "code",
   "execution_count": 6,
   "metadata": {},
   "outputs": [
    {
     "data": {
      "text/plain": [
       "release_year\n",
       "1960    01:50\n",
       "1961    01:59\n",
       "1962    02:04\n",
       "1963    01:51\n",
       "1964    01:49\n",
       "1965    01:58\n",
       "1966    01:46\n",
       "1967    01:44\n",
       "1968    01:47\n",
       "1969    01:46\n",
       "1970    01:52\n",
       "1971    01:47\n",
       "1972    01:41\n",
       "1973    01:43\n",
       "1974    01:45\n",
       "1975    01:47\n",
       "1976    01:49\n",
       "1977    01:47\n",
       "1978    01:50\n",
       "1979    01:52\n",
       "1980    01:47\n",
       "1981    01:45\n",
       "1982    01:43\n",
       "1983    01:43\n",
       "1984    01:43\n",
       "1985    01:54\n",
       "1986    01:39\n",
       "1987    01:41\n",
       "1988    01:41\n",
       "1989    01:44\n",
       "1990    01:45\n",
       "1991    01:45\n",
       "1992    01:47\n",
       "1993    01:47\n",
       "1994    01:46\n",
       "1995    01:47\n",
       "1996    01:45\n",
       "1997    01:46\n",
       "1998    01:45\n",
       "1999    01:48\n",
       "2000    01:44\n",
       "2001    01:48\n",
       "2002    01:47\n",
       "2003    01:41\n",
       "2004    01:45\n",
       "2005    01:43\n",
       "2006    01:41\n",
       "2007    01:40\n",
       "2008    01:40\n",
       "2009    01:38\n",
       "2010    01:38\n",
       "2011    01:38\n",
       "2012    01:38\n",
       "2013    01:36\n",
       "2014    01:38\n",
       "2015    01:37\n",
       "Name: runtime, dtype: object"
      ]
     },
     "execution_count": 6,
     "metadata": {},
     "output_type": "execute_result"
    }
   ],
   "source": [
    "clean_of_runtime = Data[Data['runtime'] != 0]\n",
    "ave_movies = clean_of_runtime.groupby('release_year')['runtime'].mean()\n",
    "ave_movies_hours_minutes = ave_movies.apply(lambda x:'{:02}:{:02}'.format(int(x / 60), int(x % 60)))\n",
    "ave_movies_hours_minutes"
   ]
  },
  {
   "cell_type": "markdown",
   "metadata": {},
   "source": [
    "5 طوالنی تر ین و کوتاهتر ین فیلم ثبت شده برای هر سال، کدام فیلم ها بوده است؟"
   ]
  },
  {
   "cell_type": "code",
   "execution_count": null,
   "metadata": {},
   "outputs": [],
   "source": [
    "clean_of_runtime = Data[Data['runtime'] != 0]\n",
    "longest_inyeares = clean_of_runtime.groupby('release_year')['runtime'].idxmax()\n",
    "shortest_inYeares = clean_of_runtime.groupby('release_year')['runtime'].idxmin()\n",
    "longest_moves = clean_of_runtime.loc[longest_inyeares]\n",
    "shortest_moves= clean_of_runtime.loc[shortest_inYeares]\n",
    "longest_moves[['original_title' ,'runtime','release_year']]\n",
    "#shortest_moves[['original_title' ,'runtime','release_year']]"
   ]
  },
  {
   "cell_type": "markdown",
   "metadata": {},
   "source": [
    "8 میانگین بودجه اختصاص یافته به فیلمها در طول تار یخ چه مقدار بوده است؟ "
   ]
  },
  {
   "cell_type": "code",
   "execution_count": 8,
   "metadata": {},
   "outputs": [
    {
     "name": "stdout",
     "output_type": "stream",
     "text": [
      " avarage of budget in all years is : \t30739432.899226304\n"
     ]
    }
   ],
   "source": [
    "clean_butge = Data[Data['budget'] !=0]\n",
    "avarag_budget = clean_butge['budget'].mean()\n",
    "print(f' avarage of budget in all years is : \\t{avarag_budget}')"
   ]
  },
  {
   "cell_type": "markdown",
   "metadata": {},
   "source": [
    "6 پنج فیلم برتر از نظر بیشتر ین تعداد رای دهنده کدام فیلم ها است؟ "
   ]
  },
  {
   "cell_type": "code",
   "execution_count": 9,
   "metadata": {},
   "outputs": [
    {
     "data": {
      "text/html": [
       "<div>\n",
       "<style scoped>\n",
       "    .dataframe tbody tr th:only-of-type {\n",
       "        vertical-align: middle;\n",
       "    }\n",
       "\n",
       "    .dataframe tbody tr th {\n",
       "        vertical-align: top;\n",
       "    }\n",
       "\n",
       "    .dataframe thead th {\n",
       "        text-align: right;\n",
       "    }\n",
       "</style>\n",
       "<table border=\"1\" class=\"dataframe\">\n",
       "  <thead>\n",
       "    <tr style=\"text-align: right;\">\n",
       "      <th></th>\n",
       "      <th>vote_count</th>\n",
       "      <th>original_title</th>\n",
       "    </tr>\n",
       "  </thead>\n",
       "  <tbody>\n",
       "    <tr>\n",
       "      <th>1919</th>\n",
       "      <td>9767</td>\n",
       "      <td>Inception</td>\n",
       "    </tr>\n",
       "    <tr>\n",
       "      <th>4361</th>\n",
       "      <td>8903</td>\n",
       "      <td>The Avengers</td>\n",
       "    </tr>\n",
       "    <tr>\n",
       "      <th>1386</th>\n",
       "      <td>8458</td>\n",
       "      <td>Avatar</td>\n",
       "    </tr>\n",
       "    <tr>\n",
       "      <th>2875</th>\n",
       "      <td>8432</td>\n",
       "      <td>The Dark Knight</td>\n",
       "    </tr>\n",
       "    <tr>\n",
       "      <th>4364</th>\n",
       "      <td>7375</td>\n",
       "      <td>Django Unchained</td>\n",
       "    </tr>\n",
       "  </tbody>\n",
       "</table>\n",
       "</div>"
      ],
      "text/plain": [
       "      vote_count    original_title\n",
       "1919        9767         Inception\n",
       "4361        8903      The Avengers\n",
       "1386        8458            Avatar\n",
       "2875        8432   The Dark Knight\n",
       "4364        7375  Django Unchained"
      ]
     },
     "execution_count": 9,
     "metadata": {},
     "output_type": "execute_result"
    }
   ],
   "source": [
    "voitedf = Data[Data['vote_count'] != 0]\n",
    "voitedf['vote_count'] = voitedf['vote_count'].astype(int)\n",
    "top = voitedf.sort_values(by='vote_count',ascending=False).head(5)\n",
    "\n",
    "top[['vote_count','original_title']]"
   ]
  },
  {
   "cell_type": "markdown",
   "metadata": {},
   "source": [
    "7 پنج فیلم برتر از نظر نمره مخاطبین کدام فیلم ها است؟"
   ]
  },
  {
   "cell_type": "code",
   "execution_count": 10,
   "metadata": {},
   "outputs": [
    {
     "data": {
      "text/html": [
       "<div>\n",
       "<style scoped>\n",
       "    .dataframe tbody tr th:only-of-type {\n",
       "        vertical-align: middle;\n",
       "    }\n",
       "\n",
       "    .dataframe tbody tr th {\n",
       "        vertical-align: top;\n",
       "    }\n",
       "\n",
       "    .dataframe thead th {\n",
       "        text-align: right;\n",
       "    }\n",
       "</style>\n",
       "<table border=\"1\" class=\"dataframe\">\n",
       "  <thead>\n",
       "    <tr style=\"text-align: right;\">\n",
       "      <th></th>\n",
       "      <th>vote_average</th>\n",
       "      <th>original_title</th>\n",
       "    </tr>\n",
       "  </thead>\n",
       "  <tbody>\n",
       "    <tr>\n",
       "      <th>3894</th>\n",
       "      <td>9.2</td>\n",
       "      <td>The Story of Film: An Odyssey</td>\n",
       "    </tr>\n",
       "    <tr>\n",
       "      <th>538</th>\n",
       "      <td>8.9</td>\n",
       "      <td>The Mask You Live In</td>\n",
       "    </tr>\n",
       "    <tr>\n",
       "      <th>2269</th>\n",
       "      <td>8.8</td>\n",
       "      <td>Life Cycles</td>\n",
       "    </tr>\n",
       "    <tr>\n",
       "      <th>1200</th>\n",
       "      <td>8.8</td>\n",
       "      <td>Black Mirror: White Christmas</td>\n",
       "    </tr>\n",
       "    <tr>\n",
       "      <th>6911</th>\n",
       "      <td>8.7</td>\n",
       "      <td>Pink Floyd: Pulse</td>\n",
       "    </tr>\n",
       "  </tbody>\n",
       "</table>\n",
       "</div>"
      ],
      "text/plain": [
       "      vote_average                 original_title\n",
       "3894           9.2  The Story of Film: An Odyssey\n",
       "538            8.9           The Mask You Live In\n",
       "2269           8.8                    Life Cycles\n",
       "1200           8.8  Black Mirror: White Christmas\n",
       "6911           8.7              Pink Floyd: Pulse"
      ]
     },
     "execution_count": 10,
     "metadata": {},
     "output_type": "execute_result"
    }
   ],
   "source": [
    "happy_vote = Data[Data['vote_average'] != 0]\n",
    "happy_vote['vote_average'] = happy_vote['vote_average'].astype(float)\n",
    "top_happy = happy_vote.sort_values(by='vote_average' ,ascending=False).head(5)\n",
    "top_happy[['vote_average','original_title']]"
   ]
  },
  {
   "cell_type": "markdown",
   "metadata": {},
   "source": [
    "3 سود هر فیلم را محاسبه کنید. پر سودتر ین فیلم تار یخ چه فیلمی بوده است؟"
   ]
  },
  {
   "cell_type": "code",
   "execution_count": 11,
   "metadata": {},
   "outputs": [
    {
     "data": {
      "text/html": [
       "<div>\n",
       "<style scoped>\n",
       "    .dataframe tbody tr th:only-of-type {\n",
       "        vertical-align: middle;\n",
       "    }\n",
       "\n",
       "    .dataframe tbody tr th {\n",
       "        vertical-align: top;\n",
       "    }\n",
       "\n",
       "    .dataframe thead th {\n",
       "        text-align: right;\n",
       "    }\n",
       "</style>\n",
       "<table border=\"1\" class=\"dataframe\">\n",
       "  <thead>\n",
       "    <tr style=\"text-align: right;\">\n",
       "      <th></th>\n",
       "      <th>profit</th>\n",
       "      <th>original_title</th>\n",
       "    </tr>\n",
       "  </thead>\n",
       "  <tbody>\n",
       "    <tr>\n",
       "      <th>1386</th>\n",
       "      <td>2.544506e+09</td>\n",
       "      <td>Avatar</td>\n",
       "    </tr>\n",
       "  </tbody>\n",
       "</table>\n",
       "</div>"
      ],
      "text/plain": [
       "            profit original_title\n",
       "1386  2.544506e+09         Avatar"
      ]
     },
     "execution_count": 11,
     "metadata": {},
     "output_type": "execute_result"
    }
   ],
   "source": [
    "clean_data =Data\n",
    "clean_butge = clean_data[clean_data['budget']!=0]\n",
    "clean_revenue = clean_data[clean_data['revenue'] !=0]\n",
    "clean_data['profit'] = clean_revenue['revenue']-clean_butge['budget']\n",
    "clean_data['profit'] = clean_data['profit'].astype(float)\n",
    "top_prifit = clean_data.sort_values(by='profit',ascending=False).iloc[:1]\n",
    "top_prifit[['profit','original_title']]"
   ]
  },
  {
   "cell_type": "markdown",
   "metadata": {},
   "source": [
    "9 میانگین درآمد اختصاص یافته به فیلم ها در طول تار یخ چه مقدار بوده است؟"
   ]
  },
  {
   "cell_type": "code",
   "execution_count": 12,
   "metadata": {},
   "outputs": [
    {
     "name": "stdout",
     "output_type": "stream",
     "text": [
      " avarage of budget in all years is : \t89220658.32474227\n"
     ]
    }
   ],
   "source": [
    "import pandas as pd\n",
    "import matplotlib.pyplot as plt\n",
    "Data = pd.read_csv('imdb_movies.csv')\n",
    "clean_butge = Data[Data['revenue'] !=0]\n",
    "avarag_budget = clean_butge['revenue'].mean()\n",
    "print(f' avarage of budget in all years is : \\t{avarag_budget}')"
   ]
  },
  {
   "cell_type": "markdown",
   "metadata": {},
   "source": [
    "3 میانگین طول فیلم های سینمایی در طول همه سالها بطور میانگین چه مقدار بوده است؟ "
   ]
  },
  {
   "cell_type": "code",
   "execution_count": 13,
   "metadata": {},
   "outputs": [
    {
     "name": "stdout",
     "output_type": "stream",
     "text": [
      " avarage of avarag_runtime in all years is : \t102.363\n"
     ]
    }
   ],
   "source": [
    "runtime = Data[Data['runtime'] != 0]\n",
    "avarag_runtime = runtime['runtime'].mean()\n",
    "print(f' avarage of avarag_runtime in all years is : \\t{round(avarag_runtime , 3)}')"
   ]
  },
  {
   "cell_type": "markdown",
   "metadata": {},
   "source": [
    " پر سودتر ین فیلم هر سال، کدام فیلمها بوده است؟"
   ]
  },
  {
   "cell_type": "code",
   "execution_count": 15,
   "metadata": {},
   "outputs": [
    {
     "data": {
      "text/html": [
       "<div>\n",
       "<style scoped>\n",
       "    .dataframe tbody tr th:only-of-type {\n",
       "        vertical-align: middle;\n",
       "    }\n",
       "\n",
       "    .dataframe tbody tr th {\n",
       "        vertical-align: top;\n",
       "    }\n",
       "\n",
       "    .dataframe thead th {\n",
       "        text-align: right;\n",
       "    }\n",
       "</style>\n",
       "<table border=\"1\" class=\"dataframe\">\n",
       "  <thead>\n",
       "    <tr style=\"text-align: right;\">\n",
       "      <th></th>\n",
       "      <th>release_year</th>\n",
       "      <th>profit</th>\n",
       "    </tr>\n",
       "  </thead>\n",
       "  <tbody>\n",
       "    <tr>\n",
       "      <th>0</th>\n",
       "      <td>1960</td>\n",
       "      <td>108198052</td>\n",
       "    </tr>\n",
       "    <tr>\n",
       "      <th>1</th>\n",
       "      <td>1961</td>\n",
       "      <td>299083188</td>\n",
       "    </tr>\n",
       "    <tr>\n",
       "      <th>2</th>\n",
       "      <td>1962</td>\n",
       "      <td>166879846</td>\n",
       "    </tr>\n",
       "    <tr>\n",
       "      <th>3</th>\n",
       "      <td>1963</td>\n",
       "      <td>115411882</td>\n",
       "    </tr>\n",
       "    <tr>\n",
       "      <th>4</th>\n",
       "      <td>1964</td>\n",
       "      <td>294678387</td>\n",
       "    </tr>\n",
       "    <tr>\n",
       "      <th>5</th>\n",
       "      <td>1965</td>\n",
       "      <td>399281854</td>\n",
       "    </tr>\n",
       "    <tr>\n",
       "      <th>6</th>\n",
       "      <td>1966</td>\n",
       "      <td>52468689</td>\n",
       "    </tr>\n",
       "    <tr>\n",
       "      <th>7</th>\n",
       "      <td>1967</td>\n",
       "      <td>636334637</td>\n",
       "    </tr>\n",
       "    <tr>\n",
       "      <th>8</th>\n",
       "      <td>1968</td>\n",
       "      <td>168271762</td>\n",
       "    </tr>\n",
       "    <tr>\n",
       "      <th>9</th>\n",
       "      <td>1969</td>\n",
       "      <td>206862989</td>\n",
       "    </tr>\n",
       "    <tr>\n",
       "      <th>10</th>\n",
       "      <td>1970</td>\n",
       "      <td>454070023</td>\n",
       "    </tr>\n",
       "    <tr>\n",
       "      <th>11</th>\n",
       "      <td>1971</td>\n",
       "      <td>336284710</td>\n",
       "    </tr>\n",
       "    <tr>\n",
       "      <th>12</th>\n",
       "      <td>1972</td>\n",
       "      <td>457235917</td>\n",
       "    </tr>\n",
       "    <tr>\n",
       "      <th>13</th>\n",
       "      <td>1973</td>\n",
       "      <td>1057686099</td>\n",
       "    </tr>\n",
       "    <tr>\n",
       "      <th>14</th>\n",
       "      <td>1974</td>\n",
       "      <td>650582027</td>\n",
       "    </tr>\n",
       "    <tr>\n",
       "      <th>15</th>\n",
       "      <td>1975</td>\n",
       "      <td>808207270</td>\n",
       "    </tr>\n",
       "    <tr>\n",
       "      <th>16</th>\n",
       "      <td>1976</td>\n",
       "      <td>629426536</td>\n",
       "    </tr>\n",
       "    <tr>\n",
       "      <th>17</th>\n",
       "      <td>1977</td>\n",
       "      <td>1743308485</td>\n",
       "    </tr>\n",
       "    <tr>\n",
       "      <th>18</th>\n",
       "      <td>1978</td>\n",
       "      <td>1005100089</td>\n",
       "    </tr>\n",
       "    <tr>\n",
       "      <th>19</th>\n",
       "      <td>1979</td>\n",
       "      <td>950330150</td>\n",
       "    </tr>\n",
       "    <tr>\n",
       "      <th>20</th>\n",
       "      <td>1980</td>\n",
       "      <td>1002065664</td>\n",
       "    </tr>\n",
       "    <tr>\n",
       "      <th>21</th>\n",
       "      <td>1981</td>\n",
       "      <td>1320251458</td>\n",
       "    </tr>\n",
       "    <tr>\n",
       "      <th>22</th>\n",
       "      <td>1982</td>\n",
       "      <td>1811756359</td>\n",
       "    </tr>\n",
       "    <tr>\n",
       "      <th>23</th>\n",
       "      <td>1983</td>\n",
       "      <td>1505073842</td>\n",
       "    </tr>\n",
       "    <tr>\n",
       "      <th>24</th>\n",
       "      <td>1984</td>\n",
       "      <td>1833438131</td>\n",
       "    </tr>\n",
       "    <tr>\n",
       "      <th>25</th>\n",
       "      <td>1985</td>\n",
       "      <td>1666899046</td>\n",
       "    </tr>\n",
       "    <tr>\n",
       "      <th>26</th>\n",
       "      <td>1986</td>\n",
       "      <td>1665354869</td>\n",
       "    </tr>\n",
       "    <tr>\n",
       "      <th>27</th>\n",
       "      <td>1987</td>\n",
       "      <td>2148546726</td>\n",
       "    </tr>\n",
       "    <tr>\n",
       "      <th>28</th>\n",
       "      <td>1988</td>\n",
       "      <td>2313076703</td>\n",
       "    </tr>\n",
       "    <tr>\n",
       "      <th>29</th>\n",
       "      <td>1989</td>\n",
       "      <td>3603940908</td>\n",
       "    </tr>\n",
       "    <tr>\n",
       "      <th>30</th>\n",
       "      <td>1990</td>\n",
       "      <td>3454904971</td>\n",
       "    </tr>\n",
       "    <tr>\n",
       "      <th>31</th>\n",
       "      <td>1991</td>\n",
       "      <td>3048121485</td>\n",
       "    </tr>\n",
       "    <tr>\n",
       "      <th>32</th>\n",
       "      <td>1992</td>\n",
       "      <td>3873046070</td>\n",
       "    </tr>\n",
       "    <tr>\n",
       "      <th>33</th>\n",
       "      <td>1993</td>\n",
       "      <td>4575828325</td>\n",
       "    </tr>\n",
       "    <tr>\n",
       "      <th>34</th>\n",
       "      <td>1994</td>\n",
       "      <td>4704384415</td>\n",
       "    </tr>\n",
       "    <tr>\n",
       "      <th>35</th>\n",
       "      <td>1995</td>\n",
       "      <td>5608098320</td>\n",
       "    </tr>\n",
       "    <tr>\n",
       "      <th>36</th>\n",
       "      <td>1996</td>\n",
       "      <td>4736626727</td>\n",
       "    </tr>\n",
       "    <tr>\n",
       "      <th>37</th>\n",
       "      <td>1997</td>\n",
       "      <td>6380241248</td>\n",
       "    </tr>\n",
       "    <tr>\n",
       "      <th>38</th>\n",
       "      <td>1998</td>\n",
       "      <td>5274145395</td>\n",
       "    </tr>\n",
       "    <tr>\n",
       "      <th>39</th>\n",
       "      <td>1999</td>\n",
       "      <td>6433209130</td>\n",
       "    </tr>\n",
       "    <tr>\n",
       "      <th>40</th>\n",
       "      <td>2000</td>\n",
       "      <td>6110774823</td>\n",
       "    </tr>\n",
       "    <tr>\n",
       "      <th>41</th>\n",
       "      <td>2001</td>\n",
       "      <td>8022044875</td>\n",
       "    </tr>\n",
       "    <tr>\n",
       "      <th>42</th>\n",
       "      <td>2002</td>\n",
       "      <td>9004589344</td>\n",
       "    </tr>\n",
       "    <tr>\n",
       "      <th>43</th>\n",
       "      <td>2003</td>\n",
       "      <td>9202155213</td>\n",
       "    </tr>\n",
       "    <tr>\n",
       "      <th>44</th>\n",
       "      <td>2004</td>\n",
       "      <td>9822506642</td>\n",
       "    </tr>\n",
       "    <tr>\n",
       "      <th>45</th>\n",
       "      <td>2005</td>\n",
       "      <td>9259452998</td>\n",
       "    </tr>\n",
       "    <tr>\n",
       "      <th>46</th>\n",
       "      <td>2006</td>\n",
       "      <td>8726299999</td>\n",
       "    </tr>\n",
       "    <tr>\n",
       "      <th>47</th>\n",
       "      <td>2007</td>\n",
       "      <td>11686103667</td>\n",
       "    </tr>\n",
       "    <tr>\n",
       "      <th>48</th>\n",
       "      <td>2008</td>\n",
       "      <td>11843373159</td>\n",
       "    </tr>\n",
       "    <tr>\n",
       "      <th>49</th>\n",
       "      <td>2009</td>\n",
       "      <td>14069305071</td>\n",
       "    </tr>\n",
       "    <tr>\n",
       "      <th>50</th>\n",
       "      <td>2010</td>\n",
       "      <td>13312189037</td>\n",
       "    </tr>\n",
       "    <tr>\n",
       "      <th>51</th>\n",
       "      <td>2011</td>\n",
       "      <td>14966694704</td>\n",
       "    </tr>\n",
       "    <tr>\n",
       "      <th>52</th>\n",
       "      <td>2012</td>\n",
       "      <td>16596845507</td>\n",
       "    </tr>\n",
       "    <tr>\n",
       "      <th>53</th>\n",
       "      <td>2013</td>\n",
       "      <td>15782743325</td>\n",
       "    </tr>\n",
       "    <tr>\n",
       "      <th>54</th>\n",
       "      <td>2014</td>\n",
       "      <td>16676201357</td>\n",
       "    </tr>\n",
       "    <tr>\n",
       "      <th>55</th>\n",
       "      <td>2015</td>\n",
       "      <td>19032145273</td>\n",
       "    </tr>\n",
       "  </tbody>\n",
       "</table>\n",
       "</div>"
      ],
      "text/plain": [
       "    release_year       profit\n",
       "0           1960    108198052\n",
       "1           1961    299083188\n",
       "2           1962    166879846\n",
       "3           1963    115411882\n",
       "4           1964    294678387\n",
       "5           1965    399281854\n",
       "6           1966     52468689\n",
       "7           1967    636334637\n",
       "8           1968    168271762\n",
       "9           1969    206862989\n",
       "10          1970    454070023\n",
       "11          1971    336284710\n",
       "12          1972    457235917\n",
       "13          1973   1057686099\n",
       "14          1974    650582027\n",
       "15          1975    808207270\n",
       "16          1976    629426536\n",
       "17          1977   1743308485\n",
       "18          1978   1005100089\n",
       "19          1979    950330150\n",
       "20          1980   1002065664\n",
       "21          1981   1320251458\n",
       "22          1982   1811756359\n",
       "23          1983   1505073842\n",
       "24          1984   1833438131\n",
       "25          1985   1666899046\n",
       "26          1986   1665354869\n",
       "27          1987   2148546726\n",
       "28          1988   2313076703\n",
       "29          1989   3603940908\n",
       "30          1990   3454904971\n",
       "31          1991   3048121485\n",
       "32          1992   3873046070\n",
       "33          1993   4575828325\n",
       "34          1994   4704384415\n",
       "35          1995   5608098320\n",
       "36          1996   4736626727\n",
       "37          1997   6380241248\n",
       "38          1998   5274145395\n",
       "39          1999   6433209130\n",
       "40          2000   6110774823\n",
       "41          2001   8022044875\n",
       "42          2002   9004589344\n",
       "43          2003   9202155213\n",
       "44          2004   9822506642\n",
       "45          2005   9259452998\n",
       "46          2006   8726299999\n",
       "47          2007  11686103667\n",
       "48          2008  11843373159\n",
       "49          2009  14069305071\n",
       "50          2010  13312189037\n",
       "51          2011  14966694704\n",
       "52          2012  16596845507\n",
       "53          2013  15782743325\n",
       "54          2014  16676201357\n",
       "55          2015  19032145273"
      ]
     },
     "execution_count": 15,
     "metadata": {},
     "output_type": "execute_result"
    }
   ],
   "source": [
    "import pandas as pd\n",
    "import matplotlib.pyplot as plt\n",
    "Data = pd.read_csv('imdb_movies.csv')\n",
    "cleanData = Data[Data['budget'] !=0]\n",
    "cleanData = cleanData[cleanData['revenue'] !=0]\n",
    "group_BR =cleanData.groupby(['release_year'])[['revenue', 'budget']].sum()\n",
    "group_BR['profit']=group_BR['revenue'] - group_BR['budget']\n",
    "most_profit = group_BR.groupby('release_year')['profit'].idxmax()\n",
    "result_df = group_BR.loc[most_profit]\n",
    "\n",
    "# Reset index for a cleaner output\n",
    "result_df.reset_index(inplace=True)\n",
    "\n",
    "# Display the result\n",
    "result_df[['release_year',  'profit']]"
   ]
  },
  {
   "cell_type": "markdown",
   "metadata": {},
   "source": [
    "کدام شرکت بیشترین فیلم را ساخته است؟"
   ]
  },
  {
   "cell_type": "code",
   "execution_count": null,
   "metadata": {},
   "outputs": [],
   "source": [
    "newData = Data.dropna()\n",
    "newData = newData['production_companies'].explode().value_counts()\n",
    "\n",
    "plt.figure(figsize=(10, 6))\n",
    "plt.bar(newData.index , newData.values)\n",
    "plt.xlabel('production_companies')\n",
    "plt.ylabel('Count')\n",
    "plt.title('Abundance of production_companies')\n",
    "plt.xticks(rotation=45, ha='right')\n",
    "plt.tight_layout()\n",
    "plt.show()"
   ]
  },
  {
   "cell_type": "markdown",
   "metadata": {},
   "source": [
    "کدام ژانر بیشترین تعداد را دارد؟"
   ]
  },
  {
   "cell_type": "code",
   "execution_count": null,
   "metadata": {},
   "outputs": [],
   "source": [
    "import pandas as pd\n",
    "import matplotlib.pyplot as plt\n",
    "Data = pd.read_csv('imdb_movies.csv')\n",
    "newData = Data.dropna()\n",
    "newData = newData['genres'].explode().value_counts()\n",
    "\n",
    "plt.figure(figsize=(12, 6))\n",
    "plt.bar(newData.index , newData.values )\n",
    "plt.xlabel('Genres')\n",
    "plt.ylabel('Count')\n",
    "plt.title('Abundance of Genres')\n",
    "plt.xticks(rotation=45, ha='right')\n",
    "plt.tight_layout()\n",
    "plt.show()\n"
   ]
  },
  {
   "cell_type": "markdown",
   "metadata": {},
   "source": [
    "0 میانگین بودجه و درآمد اختصاص یافته در هر سال چه مقدار بوده است؟"
   ]
  },
  {
   "cell_type": "code",
   "execution_count": null,
   "metadata": {},
   "outputs": [],
   "source": [
    "movie_df = Data[Data['budget']!=0]\n",
    "movie_df = Data[Data['revenue']!=0]\n",
    "\n",
    "\n",
    "average_df = movie_df.groupby('release_year').agg({'budget': 'mean', 'revenue': 'mean'})\n",
    "\n",
    "\n",
    "average_df"
   ]
  },
  {
   "cell_type": "markdown",
   "metadata": {},
   "source": [
    " با استفاده از نمودار هیستوگرام، توز یع مدت زمان فیلم ها در طول تار یخ را بکشید."
   ]
  },
  {
   "cell_type": "code",
   "execution_count": null,
   "metadata": {},
   "outputs": [],
   "source": [
    "moves = Data[Data['runtime'] != 0]\n",
    "plt.figure(figsize=(10, 6))  # Set the figure size\n",
    "plt.hist(moves['runtime'], bins=10, color='skyblue', edgecolor='black', alpha=0.7)\n",
    "\n",
    "# Add labels and title\n",
    "plt.xlabel('runtime (minutes)')\n",
    "plt.ylabel('Frequency')\n",
    "plt.title('Distribution of Movie runtime')\n",
    "\n",
    "# Show the plot\n",
    "plt.grid(True)\n",
    "plt.show()"
   ]
  },
  {
   "cell_type": "markdown",
   "metadata": {},
   "source": [
    "ا پیدا کردن میانگی ن بودجه و درآمد برای هر سال، رابطه بین بودجه و درآمد را با استفاده از نمودار sca"
   ]
  },
  {
   "cell_type": "code",
   "execution_count": null,
   "metadata": {},
   "outputs": [],
   "source": [
    "plt.figure(figsize=(10, 6))  \n",
    "\n",
    "clean_data = Data[Data['budget'] !=0]\n",
    "clean_data = Data[Data['revenue'] !=0]\n",
    "\n",
    "plt.scatter(clean_data['budget'], clean_data['revenue'], color='b', alpha=0.7, edgecolors='k')\n",
    "\n",
    "\n",
    "plt.xlabel('Budget')\n",
    "plt.ylabel('revenue')\n",
    "plt.title('Relationship between Budget and Income')\n",
    "\n",
    "\n",
    "plt.grid(True)\n",
    "plt.show()"
   ]
  }
 ],
 "metadata": {
  "kernelspec": {
   "display_name": "Python 3",
   "language": "python",
   "name": "python3"
  },
  "language_info": {
   "codemirror_mode": {
    "name": "ipython",
    "version": 3
   },
   "file_extension": ".py",
   "mimetype": "text/x-python",
   "name": "python",
   "nbconvert_exporter": "python",
   "pygments_lexer": "ipython3",
   "version": "3.8.9"
  }
 },
 "nbformat": 4,
 "nbformat_minor": 2
}
